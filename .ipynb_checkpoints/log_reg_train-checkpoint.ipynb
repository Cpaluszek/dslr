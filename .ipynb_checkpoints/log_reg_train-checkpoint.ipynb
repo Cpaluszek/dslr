{
 "cells": [
  {
   "cell_type": "markdown",
   "id": "18fbb913-5fab-48b5-a47e-1d37aa87dc59",
   "metadata": {},
   "source": [
    "# Logistic Regression Training\n",
    "Binary classification algorithm.\n",
    "Typically used when the target variable has only two possible outcomes.\n",
    "\n",
    "However, logistic regression can be extended to handle multi-class classification problems through techniques such as *one-vs-all* or *multinomial* logistic regression.\n",
    "\n",
    "## One-vs-all or One-vs-Rest (OVR)\n",
    "Train separate binary logistic regression model for each class.\n",
    "Each model is trained to distinguish that class from all other classes.\n",
    "During prediction, we run each observation through all models, and the class with the highest probability is assigned as the predicted class.\n",
    "\n",
    "Our dataset has a discrete number of possible outcomes: `[Ravenclaw, Slytherin, Gryffindor, Hufflepuff]`.\n",
    "\n",
    "This method allows breaking down by splitting up into multiple binary class models.\n",
    "\n",
    "We will be using `k=4` *binary classifiers*.\n",
    "\n",
    "## Features Selection\n",
    "Based on data visualization:\n",
    "- `Arithmancy` and `Care of magical Creatures` cannot classify well.\n",
    "- `Defense Against the Dark Arts` and `Astronomy` are anti-correlated; we can drop one.\n",
    "\n",
    "All other numerical features will be used for training.\n",
    "\n",
    "## Data preparation\n",
    "- Only meaningful features will be used\n",
    "- Remove rows containing `NaN`\n",
    "- *Standardize* data"
   ]
  },
  {
   "cell_type": "markdown",
   "id": "831f7f8b-eb07-4370-82cc-2d92928010e7",
   "metadata": {},
   "source": [
    "## TODO\n",
    "- use numpy to load and write to file\n",
    "- Data preparation\n",
    "    - Drop `Arithmancy`, `Care of Magical Creatures` and `Defense Against the Dark Arts`\n",
    "    - Drop rows containing `NaN`\n",
    "    - Standardize"
   ]
  }
 ],
 "metadata": {
  "kernelspec": {
   "display_name": "Python 3 (ipykernel)",
   "language": "python",
   "name": "python3"
  },
  "language_info": {
   "codemirror_mode": {
    "name": "ipython",
    "version": 3
   },
   "file_extension": ".py",
   "mimetype": "text/x-python",
   "name": "python",
   "nbconvert_exporter": "python",
   "pygments_lexer": "ipython3",
   "version": "3.10.12"
  }
 },
 "nbformat": 4,
 "nbformat_minor": 5
}

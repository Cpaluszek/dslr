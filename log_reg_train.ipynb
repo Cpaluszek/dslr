{
 "cells": [
  {
   "cell_type": "markdown",
   "id": "18fbb913-5fab-48b5-a47e-1d37aa87dc59",
   "metadata": {},
   "source": [
    "# Logistic Regression Training\n",
    "Binary classification algorithm.\n",
    "Typically used when the target variable has only two possible outcomes.\n",
    "\n",
    "However, logistic regression can be extended to handle multi-class classification problems through techniques such as *one-vs-all* or *multinomial* logistic regression.\n",
    "\n",
    "## One-vs-all or One-vs-Rest (OVR)\n",
    "Train separate binary logistic regression model for each class.\n",
    "Each model is trained to distinguish that class from all other classes.\n",
    "During prediction, we run each observation through all models, and the class with the highest probability is assigned as the predicted class."
   ]
  },
  {
   "cell_type": "code",
   "execution_count": null,
   "id": "1bbd7e37-f9bc-4c22-9ee5-e30ad6b89509",
   "metadata": {},
   "outputs": [],
   "source": []
  }
 ],
 "metadata": {
  "kernelspec": {
   "display_name": "Python 3 (ipykernel)",
   "language": "python",
   "name": "python3"
  },
  "language_info": {
   "codemirror_mode": {
    "name": "ipython",
    "version": 3
   },
   "file_extension": ".py",
   "mimetype": "text/x-python",
   "name": "python",
   "nbconvert_exporter": "python",
   "pygments_lexer": "ipython3",
   "version": "3.10.12"
  }
 },
 "nbformat": 4,
 "nbformat_minor": 5
}

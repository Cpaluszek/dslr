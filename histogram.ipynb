{
 "cells": [
  {
   "cell_type": "markdown",
   "id": "583d1ae9-937f-45a6-aecd-2629b5085fbf",
   "metadata": {},
   "source": [
    "# Histogram"
   ]
  },
  {
   "cell_type": "code",
   "execution_count": 25,
   "id": "4cf6b7d0-71d8-41d0-8772-ae71837468ed",
   "metadata": {},
   "outputs": [],
   "source": [
    "%run \"utils.ipynb\""
   ]
  },
  {
   "cell_type": "code",
   "execution_count": 24,
   "id": "cc937f2a-f850-4748-a58b-56621aa151b4",
   "metadata": {},
   "outputs": [
    {
     "name": "stdout",
     "output_type": "stream",
     "text": [
      "     Hogwarts House First Name    Last Name    Birthday Best Hand  Arithmancy  \\\n",
      "0         Ravenclaw     Tamara          Hsu  2000-03-30      Left     58384.0   \n",
      "1         Slytherin      Erich      Paredes  1999-10-14     Right     67239.0   \n",
      "2         Ravenclaw   Stephany        Braun  1999-11-03      Left     23702.0   \n",
      "3        Gryffindor      Vesta    Mcmichael  2000-08-19      Left     32667.0   \n",
      "4        Gryffindor     Gaston        Gibbs  1998-09-27      Left     60158.0   \n",
      "...             ...        ...          ...         ...       ...         ...   \n",
      "1595     Gryffindor       Jung        Blank  2001-09-14     Right     49009.0   \n",
      "1596      Slytherin     Shelli         Lock  1998-03-12      Left     63296.0   \n",
      "1597     Gryffindor   Benjamin  Christensen  1999-10-24     Right     63905.0   \n",
      "1598     Hufflepuff  Charlotte       Dillon  2001-09-21      Left     82713.0   \n",
      "1599     Hufflepuff      Kylie        Nowak  2000-08-21      Left     48639.0   \n",
      "\n",
      "       Astronomy  Herbology  Defense Against the Dark Arts  Divination  \\\n",
      "0    -487.886086   5.727180                       4.878861       4.722   \n",
      "1    -552.060507  -5.987446                       5.520605      -5.612   \n",
      "2    -366.076117   7.725017                       3.660761       6.140   \n",
      "3     697.742809  -6.497214                      -6.977428       4.026   \n",
      "4     436.775204  -7.820623                            NaN       2.236   \n",
      "...          ...        ...                            ...         ...   \n",
      "1595  354.280086  -4.541837                      -3.542801       5.702   \n",
      "1596  367.531174   6.061064                      -3.675312       1.757   \n",
      "1597  544.018925  -3.203269                      -5.440189       6.065   \n",
      "1598  453.676219   3.442831                      -4.536762       6.738   \n",
      "1599  688.911989   5.421046                      -6.889120       6.593   \n",
      "\n",
      "      Muggle Studies  Ancient Runes  History of Magic  Transfiguration  \\\n",
      "0         272.035831     532.484226          5.231058      1039.788281   \n",
      "1        -487.340557     367.760303          4.107170      1058.944592   \n",
      "2         664.893521     602.585284          3.555579      1088.088348   \n",
      "3        -537.001128     523.982133         -4.809637       920.391449   \n",
      "4        -444.262537     599.324514         -3.444377       937.434724   \n",
      "...              ...            ...               ...              ...   \n",
      "1595     -497.235066     618.220213         -5.231721       964.219853   \n",
      "1596     -643.271092     445.827565          2.238112      1056.147366   \n",
      "1597     -385.150457     635.211486         -5.984257       953.866685   \n",
      "1598     -831.741123     383.444937          3.813111      1087.949205   \n",
      "1599     -234.207911     339.775154          7.208415      1034.928004   \n",
      "\n",
      "       Potions  Care of Magical Creatures     Charms  Flying  \n",
      "0     3.790369                   0.715939 -232.79405  -26.89  \n",
      "1     7.248742                   0.091674 -252.18425 -113.45  \n",
      "2     8.728531                  -0.515327 -227.34265   30.42  \n",
      "3     0.821911                  -0.014040 -256.84675  200.64  \n",
      "4     4.311066                  -0.264070 -256.38730  157.98  \n",
      "...        ...                        ...        ...     ...  \n",
      "1595  3.389086                  -0.649983 -250.39401  185.83  \n",
      "1596  5.825263                  -0.333962 -246.42719   44.80  \n",
      "1597  1.709808                   0.071569 -251.63679  198.47  \n",
      "1598  3.904100                  -0.531875 -246.19072  -76.81  \n",
      "1599  2.052215                   0.150532 -244.02063  -54.77  \n",
      "\n",
      "[1600 rows x 18 columns]\n"
     ]
    }
   ],
   "source": [
    "if __name__ == \"__main__\":\n",
    "    df = get_data()\n",
    "    print(df)"
   ]
  },
  {
   "cell_type": "code",
   "execution_count": null,
   "id": "5591a666-17b5-40f8-9ebf-913a2f9fe1a5",
   "metadata": {},
   "outputs": [],
   "source": []
  }
 ],
 "metadata": {
  "kernelspec": {
   "display_name": "Python 3 (ipykernel)",
   "language": "python",
   "name": "python3"
  },
  "language_info": {
   "codemirror_mode": {
    "name": "ipython",
    "version": 3
   },
   "file_extension": ".py",
   "mimetype": "text/x-python",
   "name": "python",
   "nbconvert_exporter": "python",
   "pygments_lexer": "ipython3",
   "version": "3.8.10"
  }
 },
 "nbformat": 4,
 "nbformat_minor": 5
}

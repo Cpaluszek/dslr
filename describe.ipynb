{
 "cells": [
  {
   "cell_type": "markdown",
   "id": "04099ad8-3793-4995-bfbe-fd6ce865f91c",
   "metadata": {},
   "source": [
    "# Data Analysis\n",
    "\n",
    "Display information for all numerical feature:\n",
    "- Count - number of values in the dataset\n",
    "- Mean - average value\n",
    "- Std deviation - measure of the dispersion of the values\n",
    "- Min - smallest value\n",
    "- 25% (Q1)\n",
    "- 50% (Q2)\n",
    "- 75% (Q3)\n",
    "- Max - largest value\n",
    "- Mode - most frequently occuring value\n",
    "\n",
    "**Additional infos:**\n",
    "- Interquartile Range (IQR)\n",
    "- Skewness - measure of assymetry of the distribution of values\n",
    "- Kurtosis - A measure of 'tailedness' of the distribution"
   ]
  },
  {
   "cell_type": "markdown",
   "id": "a2e6aecf-eb70-4c94-96d7-561af4ea6e68",
   "metadata": {},
   "source": [
    "## Describe Program"
   ]
  },
  {
   "cell_type": "code",
   "execution_count": 23,
   "id": "1245bf99-37eb-4fd5-a579-aa2350a6e63f",
   "metadata": {},
   "outputs": [
    {
     "name": "stdout",
     "output_type": "stream",
     "text": [
      "Error: file not found\n"
     ]
    }
   ],
   "source": [
    "import sys\n",
    "import pandas as pd\n",
    "sys.argv = ['describe.py', './datasets/dataset_train.csv']\n",
    "\n",
    "class StopExecution(Exception):\n",
    "    def _render_traceback_(self):\n",
    "        print(self)\n",
    "        pass\n",
    "\n",
    "\n",
    "if __name__ == '__main__':\n",
    "    if len(sys.argv) != 2:\n",
    "        print('Argument is missing')\n",
    "        pass\n",
    "\n",
    "    try:\n",
    "        data_frame = pd.read_csv('./data.csv')\n",
    "    except FileNotFoundError:\n",
    "        raise StopExecution('Error: file not found')\n",
    "    except pd.errors.EmptyDataError:\n",
    "        raise StopExecution(\"Error: The CSV file is empty.\")\n",
    "    except pd.errors.ParserError as pe:\n",
    "        raise StopExecution(f\"Error parsing the CSV file: {pe}\")\n",
    "    except Exception as e:\n",
    "        raise StopExecution(f\"An unexpected error occurred: {e}\")\n",
    "\n",
    "    print('OK')"
   ]
  },
  {
   "cell_type": "code",
   "execution_count": null,
   "id": "03b2376b-89ea-4d0b-b495-c4c6a4080210",
   "metadata": {},
   "outputs": [],
   "source": []
  }
 ],
 "metadata": {
  "kernelspec": {
   "display_name": "Python 3 (ipykernel)",
   "language": "python",
   "name": "python3"
  },
  "language_info": {
   "codemirror_mode": {
    "name": "ipython",
    "version": 3
   },
   "file_extension": ".py",
   "mimetype": "text/x-python",
   "name": "python",
   "nbconvert_exporter": "python",
   "pygments_lexer": "ipython3",
   "version": "3.8.10"
  }
 },
 "nbformat": 4,
 "nbformat_minor": 5
}

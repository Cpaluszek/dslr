{
 "cells": [
  {
   "cell_type": "code",
   "execution_count": null,
   "id": "2123c064-cc7d-4661-a938-adcb96feff84",
   "metadata": {},
   "outputs": [],
   "source": [
    "import pandas as pd\n",
    "import sys\n",
    "\n",
    "sys.argv = ['describe.py', './datasets/dataset_train.csv']\n",
    "\n",
    "class StopExecution(Exception):\n",
    "    def _render_traceback_(self):\n",
    "        print(self)\n",
    "        pass\n",
    "\n",
    "def get_data():\n",
    "    if len(sys.argv) != 2:\n",
    "        raise StopExecution('Argument is missing')\n",
    "\n",
    "    try:\n",
    "        df = pd.read_csv(sys.argv[1])\n",
    "        if 'Index' in df.columns:\n",
    "            df = df.drop('Index', axis=1)\n",
    "        return df\n",
    "\n",
    "    except FileNotFoundError:\n",
    "        raise StopExecution('Error: file not found')\n",
    "    except pd.errors.EmptyDataError:\n",
    "        raise StopExecution(\"Error: The CSV file is empty.\")\n",
    "    except pd.errors.ParserError as pe:\n",
    "        raise StopExecution(f\"Error parsing the CSV file: {pe}\")\n",
    "    except Exception as e:\n",
    "        raise StopExecution(f\"An unexpected error occurred: {e}\")"
   ]
  }
 ],
 "metadata": {
  "kernelspec": {
   "display_name": "Python 3 (ipykernel)",
   "language": "python",
   "name": "python3"
  },
  "language_info": {
   "codemirror_mode": {
    "name": "ipython",
    "version": 3
   },
   "file_extension": ".py",
   "mimetype": "text/x-python",
   "name": "python",
   "nbconvert_exporter": "python",
   "pygments_lexer": "ipython3",
   "version": "3.10.12"
  }
 },
 "nbformat": 4,
 "nbformat_minor": 5
}
